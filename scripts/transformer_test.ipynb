{
 "cells": [
  {
   "cell_type": "code",
   "execution_count": null,
   "metadata": {},
   "outputs": [],
   "source": [
    "#init\n",
    "import torch, numpy, sys\n",
    "sys.path.append(\"..\")\n",
    "from chatbot_end2end.model.supervised import Supervised\n",
    "from nlptools.utils import Config\n",
    "\n",
    "cfg = Config(\"../config/cornell.yml\")\n",
    "model = Supervised.build(cfg)"
   ]
  },
  {
   "cell_type": "code",
   "execution_count": null,
   "metadata": {},
   "outputs": [],
   "source": [
    "model.skill.model.config"
   ]
  },
  {
   "cell_type": "code",
   "execution_count": null,
   "metadata": {},
   "outputs": [],
   "source": [
    "dialog = iter(model.generator).next()\n",
    "dialog.to(\"cuda:0\")\n",
    "response = dialog[\"response_cornell\"].data\n",
    "response_mask = dialog[\"response_mask_cornell\"].data\n",
    "utterance = dialog[\"utterance\"].data\n",
    "utterance_mask = dialog[\"utterance_mask\"].data\n",
    "sentiment = dialog[\"sentiment\"].data\n",
    "print(utterance, utterance.shape)\n",
    "print(utterance_mask, utterance_mask.shape)\n",
    "print(response, response.shape)\n",
    "print(response_mask, response_mask.shape)\n",
    "print(sentiment[:10, :], sentiment.shape)"
   ]
  },
  {
   "cell_type": "code",
   "execution_count": null,
   "metadata": {},
   "outputs": [],
   "source": [
    "encoder_out, encoder_hidden = model.skill.model.dialog_embedding(utterance, utterance_mask, sentiment)\n",
    "prev_output = response.data[:, :-1]\n",
    "target_output = response.data[:, 1:]\n",
    "print(encoder_out.shape)\n",
    "print(prev_output.shape)\n",
    "print(target_output.shape)"
   ]
  },
  {
   "cell_type": "code",
   "execution_count": null,
   "metadata": {},
   "outputs": [],
   "source": [
    "for parameter in model.skill.model.decoder.fc3.parameters():\n",
    "    print(parameter.requires_grad)"
   ]
  },
  {
   "cell_type": "code",
   "execution_count": null,
   "metadata": {},
   "outputs": [],
   "source": [
    "target_output = target_output.unsqueeze(-1).contiguous().view(-1)\n",
    "target_output.shape"
   ]
  },
  {
   "cell_type": "code",
   "execution_count": null,
   "metadata": {},
   "outputs": [],
   "source": [
    "#import nlptools.zoo.encoders.transformer\n",
    "import nlptools.zoo.encoders.lstm\n",
    "import nlptools.zoo.encoders.attention\n",
    "import importlib\n",
    "#importlib.reload(nlptools.zoo.encoders.transformer)\n",
    "importlib.reload(nlptools.zoo.encoders.lstm)\n",
    "importlib.reload(nlptools.zoo.encoders.attention)\n",
    "#from nlptools.zoo.encoders.transformer import TransformerDecoder, TransformerEncoder\n",
    "from nlptools.zoo.encoders.lstm import LSTMDecoder, LSTMEncoder\n",
    "from nlptools.zoo.encoders.attention import MultiheadAttention\n",
    "\n",
    "embedding = model.skill.model.encoder.embedding\n",
    "decoder_hidden_layers = 1\n",
    "decoder_attention_heads = 3\n",
    "decoder_hidden_size = 2048\n",
    "dropout = 0\n",
    "# decoder = TransformerDecoder(embedding, decoder_hidden_layers, decoder_attention_heads, decoder_hidden_size, dropout=dropout)\n",
    "decoder = LSTMDecoder(embedding, decoder_hidden_layers, decoder_hidden_size, dropout=dropout)\n",
    "decoder = decoder.to(\"cuda:0\")\n",
    "output = decoder(prev_output, encoder_out, utterance_mask, encoder_hidden)\n",
    "output.shape"
   ]
  },
  {
   "cell_type": "code",
   "execution_count": null,
   "metadata": {},
   "outputs": [],
   "source": [
    "decoder"
   ]
  },
  {
   "cell_type": "code",
   "execution_count": null,
   "metadata": {},
   "outputs": [],
   "source": []
  }
 ],
 "metadata": {
  "kernelspec": {
   "display_name": "Python 3",
   "language": "python",
   "name": "python3"
  },
  "language_info": {
   "codemirror_mode": {
    "name": "ipython",
    "version": 3
   },
   "file_extension": ".py",
   "mimetype": "text/x-python",
   "name": "python",
   "nbconvert_exporter": "python",
   "pygments_lexer": "ipython3",
   "version": "3.7.3"
  }
 },
 "nbformat": 4,
 "nbformat_minor": 2
}
