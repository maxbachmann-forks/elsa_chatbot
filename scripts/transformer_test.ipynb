{
 "cells": [
  {
   "cell_type": "code",
   "execution_count": 1,
   "metadata": {},
   "outputs": [
    {
     "name": "stdout",
     "output_type": "stream",
     "text": [
      "Warning:  apex was installed without --cpp_ext.  Falling back to Python flatten and unflatten.\n",
      "Warning:  apex was installed without --cuda_ext. Fused syncbn kernels will be unavailable.  Python fallbacks will be used instead.\n",
      "Warning:  apex was installed without --cuda_ext.  FusedAdam will be unavailable.\n",
      "Warning:  apex was installed without --cuda_ext.  FusedLayerNorm will be unavailable.\n"
     ]
    }
   ],
   "source": [
    "#init\n",
    "import torch, numpy, sys\n",
    "sys.path.append(\"..\")\n",
    "from chatbot_end2end.model.supervised import Supervised\n",
    "from nlptools.utils import Config\n",
    "\n",
    "cfg = Config(\"../config/cornell.yml\")\n",
    "model = Supervised.build(cfg)"
   ]
  },
  {
   "cell_type": "code",
   "execution_count": 2,
   "metadata": {},
   "outputs": [
    {
     "name": "stdout",
     "output_type": "stream",
     "text": [
      "torch.Size([84, 20])\n",
      "torch.Size([84, 20])\n",
      "torch.Size([84, 20, 768])\n",
      "torch.Size([84, 19])\n"
     ]
    }
   ],
   "source": [
    "dialog = iter(model.generator).next()\n",
    "dialog.to(\"cuda:0\")\n",
    "response = dialog[\"response_cornell\"].data\n",
    "utterance = dialog[\"utterance\"].data\n",
    "utterance_mask = dialog[\"utterance_mask\"].data\n",
    "sentiment = dialog[\"sentiment\"].data\n",
    "encoder_out = model.skill.model.dialog_embedding(utterance, utterance_mask, sentiment)\n",
    "prev_output = response.data[:, :-1]\n",
    "target_output = response.data[:, 1:]\n",
    "print(utterance.shape)\n",
    "print(utterance_mask.shape)\n",
    "print(encoder_out.shape)\n",
    "print(prev_output.shape)"
   ]
  },
  {
   "cell_type": "code",
   "execution_count": 3,
   "metadata": {},
   "outputs": [
    {
     "data": {
      "text/plain": [
       "tensor([[1, 1, 1,  ..., 1, 0, 0],\n",
       "        [1, 1, 1,  ..., 0, 0, 0],\n",
       "        [1, 1, 1,  ..., 0, 0, 0],\n",
       "        ...,\n",
       "        [1, 1, 1,  ..., 0, 0, 0],\n",
       "        [1, 1, 1,  ..., 1, 1, 1],\n",
       "        [1, 1, 1,  ..., 1, 1, 1]], device='cuda:0')"
      ]
     },
     "execution_count": 3,
     "metadata": {},
     "output_type": "execute_result"
    }
   ],
   "source": [
    "utterance_mask"
   ]
  },
  {
   "cell_type": "code",
   "execution_count": 4,
   "metadata": {},
   "outputs": [
    {
     "data": {
      "text/plain": [
       "torch.Size([1596])"
      ]
     },
     "execution_count": 4,
     "metadata": {},
     "output_type": "execute_result"
    }
   ],
   "source": [
    "target_output = target_output.unsqueeze(-1).contiguous().view(-1)\n",
    "target_output.shape"
   ]
  },
  {
   "cell_type": "code",
   "execution_count": 7,
   "metadata": {},
   "outputs": [
    {
     "data": {
      "text/plain": [
       "torch.Size([84, 19, 30522])"
      ]
     },
     "execution_count": 7,
     "metadata": {},
     "output_type": "execute_result"
    }
   ],
   "source": [
    "import nlptools.zoo.encoders.transformer\n",
    "import importlib\n",
    "importlib.reload(nlptools.zoo.encoders.transformer)\n",
    "from nlptools.zoo.encoders.transformer import TransformerDecoder\n",
    "embedding = model.skill.model.encoder.embedding\n",
    "decoder_hidden_layers = 1\n",
    "decoder_attention_heads = 3\n",
    "decoder_hidden_size = 3072\n",
    "dropout = 0\n",
    "decoder = TransformerDecoder(embedding, decoder_hidden_layers, decoder_attention_heads, decoder_hidden_size, dropout)\n",
    "decoder = decoder.to(\"cuda:0\")\n",
    "output = decoder(prev_output, encoder_out, utterance_mask)\n",
    "output.shape"
   ]
  },
  {
   "cell_type": "code",
   "execution_count": 8,
   "metadata": {},
   "outputs": [
    {
     "data": {
      "text/plain": [
       "TransformerDecoder(\n",
       "  (word_embedding): Embedding(30522, 768, padding_idx=0)\n",
       "  (position_embedding): Embedding(512, 768)\n",
       "  (layer_norm): BertLayerNorm()\n",
       "  (layers): ModuleList(\n",
       "    (0): TransformerDecoderLayer(\n",
       "      (self_attn): MultiheadAttention(\n",
       "        (linear_layers): ModuleList(\n",
       "          (0): Linear(in_features=768, out_features=768, bias=True)\n",
       "          (1): Linear(in_features=768, out_features=768, bias=True)\n",
       "          (2): Linear(in_features=768, out_features=768, bias=True)\n",
       "        )\n",
       "        (dropout): Dropout(p=0)\n",
       "        (output_linear): Linear(in_features=768, out_features=768, bias=True)\n",
       "      )\n",
       "      (encoder_attn): MultiheadAttention(\n",
       "        (linear_layers): ModuleList(\n",
       "          (0): Linear(in_features=768, out_features=768, bias=True)\n",
       "          (1): Linear(in_features=768, out_features=768, bias=True)\n",
       "          (2): Linear(in_features=768, out_features=768, bias=True)\n",
       "        )\n",
       "        (dropout): Dropout(p=0)\n",
       "        (output_linear): Linear(in_features=768, out_features=768, bias=True)\n",
       "      )\n",
       "      (encoder_attn_residual): ResidualLayer(\n",
       "        (norm): BertLayerNorm()\n",
       "        (dropout): Dropout(p=0)\n",
       "      )\n",
       "      (self_attn_residual): ResidualLayer(\n",
       "        (norm): BertLayerNorm()\n",
       "        (dropout): Dropout(p=0)\n",
       "      )\n",
       "      (output_residual): ResidualLayer(\n",
       "        (norm): BertLayerNorm()\n",
       "        (dropout): Dropout(p=0)\n",
       "      )\n",
       "      (feed_forward): FeedForward(\n",
       "        (w_1): Linear(in_features=768, out_features=3072, bias=True)\n",
       "        (w_2): Linear(in_features=3072, out_features=768, bias=True)\n",
       "        (dropout): Dropout(p=0)\n",
       "      )\n",
       "    )\n",
       "  )\n",
       "  (fc3): Linear(in_features=768, out_features=30522, bias=False)\n",
       ")"
      ]
     },
     "execution_count": 8,
     "metadata": {},
     "output_type": "execute_result"
    }
   ],
   "source": [
    "decoder"
   ]
  },
  {
   "cell_type": "code",
   "execution_count": null,
   "metadata": {},
   "outputs": [],
   "source": []
  }
 ],
 "metadata": {
  "kernelspec": {
   "display_name": "Python 3",
   "language": "python",
   "name": "python3"
  },
  "language_info": {
   "codemirror_mode": {
    "name": "ipython",
    "version": 3
   },
   "file_extension": ".py",
   "mimetype": "text/x-python",
   "name": "python",
   "nbconvert_exporter": "python",
   "pygments_lexer": "ipython3",
   "version": "3.7.3"
  }
 },
 "nbformat": 4,
 "nbformat_minor": 2
}
