{
 "cells": [
  {
   "cell_type": "code",
   "execution_count": 1,
   "metadata": {},
   "outputs": [
    {
     "name": "stderr",
     "output_type": "stream",
     "text": [
      "/usr/lib/python3.7/site-packages/requests/__init__.py:91: RequestsDependencyWarning: urllib3 (1.25.2) or chardet (3.0.4) doesn't match a supported version!\n",
      "  RequestsDependencyWarning)\n"
     ]
    },
    {
     "name": "stdout",
     "output_type": "stream",
     "text": [
      "{'encoder': {'vocab_size': 30522, 'hidden_size': 768, 'num_hidden_layers': 3, 'bidirectional': True}, 'decoder': {'num_attention_heads': 8, 'num_hidden_layers': 3, 'shared_embed': True, 'max_seq_len': 20, 'attention': True}}\n"
     ]
    },
    {
     "name": "stderr",
     "output_type": "stream",
     "text": [
      "2019-05-20 14:28:08,550 | INFO: Optimizer: adam with learning_rate: 0.0001\n"
     ]
    }
   ],
   "source": [
    "#init\n",
    "import torch, numpy, sys\n",
    "sys.path.append(\"..\")\n",
    "from chatbot_end2end.model.supervised import Supervised\n",
    "from nlptools.utils import Config\n",
    "\n",
    "cfg = Config(\"../config/cornell_gru.yml\")\n",
    "model = Supervised.build(cfg)"
   ]
  },
  {
   "cell_type": "code",
   "execution_count": 2,
   "metadata": {},
   "outputs": [
    {
     "name": "stdout",
     "output_type": "stream",
     "text": [
      "tensor([[  101,  2748,  1012,  ...,     0,     0,     0],\n",
      "        [  101, 17012,  2213,  ...,     0,     0,     0],\n",
      "        [  101,  1045,  2572,  ...,     0,     0,     0],\n",
      "        ...,\n",
      "        [  101,  2021,  1996,  ...,     0,     0,     0],\n",
      "        [  101,  2821,  2017,  ...,   102,     0,     0],\n",
      "        [  101,  2008,  2003,  ...,     0,     0,     0]], device='cuda:0') torch.Size([88, 20])\n",
      "tensor([[1, 1, 1,  ..., 0, 0, 0],\n",
      "        [1, 1, 1,  ..., 0, 0, 0],\n",
      "        [1, 1, 1,  ..., 0, 0, 0],\n",
      "        ...,\n",
      "        [1, 1, 1,  ..., 0, 0, 0],\n",
      "        [1, 1, 1,  ..., 1, 0, 0],\n",
      "        [1, 1, 1,  ..., 0, 0, 0]], device='cuda:0') torch.Size([88, 20])\n",
      "tensor([[ 101, 2008, 2003,  ...,    0,    0,    0],\n",
      "        [ 101, 2054, 2106,  ...,    0,    0,    0],\n",
      "        [ 101, 2821, 1010,  ...,    0,    0,    0],\n",
      "        ...,\n",
      "        [ 101, 2053, 1012,  ..., 1012, 1012,  102],\n",
      "        [ 101, 2017, 2024,  ...,    0,    0,    0],\n",
      "        [ 101, 2748, 1010,  ...,    0,    0,    0]], device='cuda:0') torch.Size([88, 20])\n",
      "tensor([[1, 1, 1,  ..., 0, 0, 0],\n",
      "        [1, 1, 1,  ..., 0, 0, 0],\n",
      "        [1, 1, 1,  ..., 0, 0, 0],\n",
      "        ...,\n",
      "        [1, 1, 1,  ..., 1, 1, 1],\n",
      "        [1, 1, 1,  ..., 0, 0, 0],\n",
      "        [1, 1, 1,  ..., 0, 0, 0]], device='cuda:0') torch.Size([88, 20])\n",
      "tensor([[ 0.5423,  0.5940],\n",
      "        [-0.4588,  0.0000],\n",
      "        [ 0.0000,  0.0000],\n",
      "        [ 0.0000,  0.4019],\n",
      "        [ 0.2732,  0.3612],\n",
      "        [ 0.0000,  0.2960],\n",
      "        [ 0.0000,  0.9491],\n",
      "        [ 0.0000, -0.2960],\n",
      "        [ 0.0000,  0.5994],\n",
      "        [ 0.2500,  0.0000]], device='cuda:0') torch.Size([88, 2])\n"
     ]
    }
   ],
   "source": [
    "dialog = iter(model.generator).next()\n",
    "dialog.to(\"cuda:0\")\n",
    "response = dialog[\"response_cornell\"].data\n",
    "response_mask = dialog[\"response_mask_cornell\"].data\n",
    "utterance = dialog[\"utterance\"].data\n",
    "utterance_mask = dialog[\"utterance_mask\"].data\n",
    "sentiment = dialog[\"sentiment\"].data\n",
    "print(utterance, utterance.shape)\n",
    "print(utterance_mask, utterance_mask.shape)\n",
    "print(response, response.shape)\n",
    "print(response_mask, response_mask.shape)\n",
    "print(sentiment[:10, :], sentiment.shape)"
   ]
  },
  {
   "cell_type": "code",
   "execution_count": 3,
   "metadata": {},
   "outputs": [
    {
     "name": "stdout",
     "output_type": "stream",
     "text": [
      "torch.Size([88, 20, 768])\n",
      "torch.Size([88, 19])\n",
      "torch.Size([88, 19])\n"
     ]
    }
   ],
   "source": [
    "encoder_out, encoder_hidden = model.skill.model.dialog_embedding(utterance, utterance_mask, sentiment)\n",
    "prev_output = response.data[:, :-1]\n",
    "target_output = response.data[:, 1:]\n",
    "print(encoder_out.shape)\n",
    "print(prev_output.shape)\n",
    "print(target_output.shape)"
   ]
  },
  {
   "cell_type": "code",
   "execution_count": null,
   "metadata": {},
   "outputs": [],
   "source": [
    "for parameter in model.skill.model.decoder.fc3.parameters():\n",
    "    print(parameter.requires_grad)"
   ]
  },
  {
   "cell_type": "code",
   "execution_count": null,
   "metadata": {},
   "outputs": [],
   "source": [
    "target_output = target_output.unsqueeze(-1).contiguous().view(-1)\n",
    "target_output.shape"
   ]
  },
  {
   "cell_type": "code",
   "execution_count": 29,
   "metadata": {},
   "outputs": [
    {
     "data": {
      "text/plain": [
       "GRUDecoder(\n",
       "  (word_embedding): Embedding(30522, 768)\n",
       "  (gru): GRU(768, 768, batch_first=True)\n",
       "  (attn): Linear(in_features=1536, out_features=20, bias=True)\n",
       "  (attn_combine): Linear(in_features=1536, out_features=768, bias=True)\n",
       "  (dropout): Dropout(p=0)\n",
       "  (output_linear): Linear(in_features=768, out_features=768, bias=False)\n",
       ")"
      ]
     },
     "execution_count": 29,
     "metadata": {},
     "output_type": "execute_result"
    }
   ],
   "source": [
    "#import nlptools.zoo.encoders.transformer\n",
    "import nlptools.zoo.encoders.gru\n",
    "import nlptools.zoo.encoders.attention\n",
    "import importlib\n",
    "#importlib.reload(nlptools.zoo.encoders.transformer)\n",
    "importlib.reload(nlptools.zoo.encoders.gru)\n",
    "importlib.reload(nlptools.zoo.encoders.attention)\n",
    "#from nlptools.zoo.encoders.transformer import TransformerDecoder, TransformerEncoder\n",
    "from nlptools.zoo.encoders.gru import GRUDecoder\n",
    "\n",
    "embedding = model.skill.model.encoder.embedding\n",
    "decoder_hidden_layers = 1\n",
    "decoder_attention_heads = 3\n",
    "decoder_hidden_size = 2048\n",
    "dropout = 0\n",
    "# decoder = TransformerDecoder(embedding, decoder_hidden_layers, decoder_attention_heads, decoder_hidden_size, dropout=dropout)\n",
    "decoder = GRUDecoder(embedding, decoder_hidden_layers, decoder_hidden_size, dropout=dropout)\n",
    "decoder = decoder.to(\"cuda:0\")\n",
    "decoder"
   ]
  },
  {
   "cell_type": "code",
   "execution_count": 30,
   "metadata": {},
   "outputs": [
    {
     "data": {
      "text/plain": [
       "torch.Size([88, 19, 30522])"
      ]
     },
     "execution_count": 30,
     "metadata": {},
     "output_type": "execute_result"
    }
   ],
   "source": [
    "\n",
    "output = decoder(prev_output, encoder_out, utterance_mask, encoder_hidden)\n",
    "output.shape"
   ]
  },
  {
   "cell_type": "code",
   "execution_count": null,
   "metadata": {},
   "outputs": [],
   "source": [
    "decoder"
   ]
  },
  {
   "cell_type": "code",
   "execution_count": null,
   "metadata": {},
   "outputs": [],
   "source": []
  }
 ],
 "metadata": {
  "kernelspec": {
   "display_name": "Python 3",
   "language": "python",
   "name": "python3"
  },
  "language_info": {
   "codemirror_mode": {
    "name": "ipython",
    "version": 3
   },
   "file_extension": ".py",
   "mimetype": "text/x-python",
   "name": "python",
   "nbconvert_exporter": "python",
   "pygments_lexer": "ipython3",
   "version": "3.7.3"
  }
 },
 "nbformat": 4,
 "nbformat_minor": 2
}
