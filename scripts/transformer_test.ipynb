{
 "cells": [
  {
   "cell_type": "code",
   "execution_count": 1,
   "metadata": {},
   "outputs": [
    {
     "name": "stderr",
     "output_type": "stream",
     "text": [
      "/usr/lib/python3.7/site-packages/requests/__init__.py:91: RequestsDependencyWarning: urllib3 (1.25.2) or chardet (3.0.4) doesn't match a supported version!\n",
      "  RequestsDependencyWarning)\n",
      "2019-05-16 21:46:28,153 | INFO: Optimizer: adam with learning_rate: 0.0001\n"
     ]
    }
   ],
   "source": [
    "#init\n",
    "import torch, numpy, sys\n",
    "sys.path.append(\"..\")\n",
    "from chatbot_end2end.model.supervised import Supervised\n",
    "from nlptools.utils import Config\n",
    "\n",
    "cfg = Config(\"../config/cornell.yml\")\n",
    "model = Supervised.build(cfg)"
   ]
  },
  {
   "cell_type": "code",
   "execution_count": 2,
   "metadata": {},
   "outputs": [
    {
     "data": {
      "text/plain": [
       "{'encoder': {'vocab_size': 30522,\n",
       "  'hidden_size': 512,\n",
       "  'intermediate_size': 2048,\n",
       "  'num_hidden_layers': 3,\n",
       "  'bidirectional': True},\n",
       " 'decoder': {'intermediate_size': 2048, 'num_hidden_layers': 3}}"
      ]
     },
     "execution_count": 2,
     "metadata": {},
     "output_type": "execute_result"
    }
   ],
   "source": [
    "model.skill.model.config"
   ]
  },
  {
   "cell_type": "code",
   "execution_count": 6,
   "metadata": {},
   "outputs": [
    {
     "name": "stdout",
     "output_type": "stream",
     "text": [
      "tensor([[ 101, 2074, 2061,  ..., 1045, 2074,  102],\n",
      "        [ 101, 2040, 2515,  ...,    0,    0,    0],\n",
      "        [ 101, 2061, 2017,  ..., 2009, 1012,  102],\n",
      "        ...,\n",
      "        [ 101, 1045, 3685,  ..., 2027, 2097,  102],\n",
      "        [ 101, 2064, 2017,  ...,    0,    0,    0],\n",
      "        [ 101, 2017, 2113,  ..., 1045, 2342,  102]], device='cuda:0') torch.Size([80, 20])\n",
      "tensor([[1, 1, 1,  ..., 1, 1, 1],\n",
      "        [1, 1, 1,  ..., 0, 0, 0],\n",
      "        [1, 1, 1,  ..., 1, 1, 1],\n",
      "        ...,\n",
      "        [1, 1, 1,  ..., 1, 1, 1],\n",
      "        [1, 1, 1,  ..., 0, 0, 0],\n",
      "        [1, 1, 1,  ..., 1, 1, 1]], device='cuda:0') torch.Size([80, 20])\n",
      "tensor([[ 101, 3425, 2525,  ...,  102,    0,    0],\n",
      "        [ 101, 1045, 2031,  ..., 1012,  102,    0],\n",
      "        [ 101, 2092, 1010,  ..., 2000, 2147,  102],\n",
      "        ...,\n",
      "        [ 101, 2129, 2071,  ...,    0,    0,    0],\n",
      "        [ 101, 2057, 2024,  ..., 1010, 2057,  102],\n",
      "        [ 101, 2198, 1012,  ...,    0,    0,    0]], device='cuda:0') torch.Size([80, 20])\n",
      "tensor([[1, 1, 1,  ..., 1, 0, 0],\n",
      "        [1, 1, 1,  ..., 1, 1, 0],\n",
      "        [1, 1, 1,  ..., 1, 1, 1],\n",
      "        ...,\n",
      "        [1, 1, 1,  ..., 0, 0, 0],\n",
      "        [1, 1, 1,  ..., 1, 1, 1],\n",
      "        [1, 1, 1,  ..., 0, 0, 0]], device='cuda:0') torch.Size([80, 20])\n",
      "tensor([[ 0.5267,  0.5267],\n",
      "        [ 0.0000,  0.2500],\n",
      "        [-0.7845,  0.6808],\n",
      "        [-0.0572,  0.1027],\n",
      "        [ 0.0772,  0.3612],\n",
      "        [ 0.0000,  0.0000],\n",
      "        [ 0.0000,  0.0000],\n",
      "        [ 0.0000,  0.4019],\n",
      "        [ 0.0000,  0.0000],\n",
      "        [ 0.0000,  0.0000],\n",
      "        [ 0.2263,  0.0000],\n",
      "        [ 0.0000, -0.9349],\n",
      "        [ 0.5837,  0.6369],\n",
      "        [ 0.0000,  0.0000],\n",
      "        [ 0.2960,  0.0000],\n",
      "        [ 0.7453,  0.0000],\n",
      "        [ 0.4404,  0.0000],\n",
      "        [ 0.3612,  0.4404],\n",
      "        [ 0.0000,  0.0000],\n",
      "        [ 0.1511,  0.3612],\n",
      "        [ 0.0000,  0.5574],\n",
      "        [ 0.0000,  0.3182],\n",
      "        [ 0.0000,  0.5859],\n",
      "        [ 0.1779,  0.5267],\n",
      "        [ 0.0000,  0.0258],\n",
      "        [ 0.0000, -0.4767],\n",
      "        [ 0.0000,  0.4019],\n",
      "        [ 0.0000, -0.4019],\n",
      "        [ 0.0000,  0.0000],\n",
      "        [-0.3400,  0.4404],\n",
      "        [ 0.0000,  0.0000],\n",
      "        [ 0.0000,  0.4019],\n",
      "        [ 0.0000,  0.0000],\n",
      "        [ 0.0000,  0.5095],\n",
      "        [-0.6428, -0.2023],\n",
      "        [ 0.2732,  0.0000],\n",
      "        [-0.6800,  0.0000],\n",
      "        [ 0.3612, -0.4767],\n",
      "        [ 0.0000,  0.0000],\n",
      "        [ 0.3818,  0.8316],\n",
      "        [ 0.0000,  0.2263],\n",
      "        [ 0.0000,  0.0000],\n",
      "        [ 0.0000,  0.0000],\n",
      "        [ 0.0000,  0.0000],\n",
      "        [ 0.0000,  0.0000],\n",
      "        [ 0.0000, -0.5563],\n",
      "        [-0.2782,  0.4939],\n",
      "        [ 0.2500,  0.0000],\n",
      "        [ 0.8020,  0.2584],\n",
      "        [-0.5423, -0.3400],\n",
      "        [ 0.0000, -0.5106],\n",
      "        [ 0.0547,  0.5849],\n",
      "        [ 0.0762, -0.2924],\n",
      "        [ 0.3612,  0.7574],\n",
      "        [ 0.1635,  0.4404],\n",
      "        [ 0.2263,  0.2960],\n",
      "        [ 0.0000,  0.0000],\n",
      "        [ 0.0000,  0.4404],\n",
      "        [-0.7731,  0.0000],\n",
      "        [ 0.0000,  0.0000],\n",
      "        [-0.4380,  0.0000],\n",
      "        [ 0.5773, -0.6808],\n",
      "        [-0.2057, -0.7351],\n",
      "        [ 0.0000,  0.2263],\n",
      "        [-0.1779,  0.0772],\n",
      "        [ 0.0000, -0.6808],\n",
      "        [ 0.7823, -0.0258],\n",
      "        [-0.4019, -0.4678],\n",
      "        [ 0.2263,  0.2023],\n",
      "        [ 0.0000,  0.4199],\n",
      "        [ 0.2500,  0.2716],\n",
      "        [ 0.4019,  0.0000],\n",
      "        [-0.8462,  0.0000],\n",
      "        [ 0.0000,  0.0000],\n",
      "        [ 0.0000,  0.4939],\n",
      "        [ 0.0000,  0.0000],\n",
      "        [ 0.0000,  0.0000],\n",
      "        [ 0.0000,  0.0000],\n",
      "        [-0.4767,  0.3182],\n",
      "        [ 0.0000,  0.0000]], device='cuda:0') torch.Size([80, 2])\n"
     ]
    }
   ],
   "source": [
    "dialog = iter(model.generator).next()\n",
    "dialog.to(\"cuda:0\")\n",
    "response = dialog[\"response_cornell\"].data\n",
    "response_mask = dialog[\"response_mask_cornell\"].data\n",
    "utterance = dialog[\"utterance\"].data\n",
    "utterance_mask = dialog[\"utterance_mask\"].data\n",
    "sentiment = dialog[\"sentiment\"].data\n",
    "print(utterance, utterance.shape)\n",
    "print(utterance_mask, utterance_mask.shape)\n",
    "print(response, response.shape)\n",
    "print(response_mask, response_mask.shape)\n",
    "print(sentiment, sentiment.shape)"
   ]
  },
  {
   "cell_type": "code",
   "execution_count": 11,
   "metadata": {},
   "outputs": [
    {
     "name": "stdout",
     "output_type": "stream",
     "text": [
      "tensor([[ 101, 2074, 2061,  ..., 1045, 2074,  102],\n",
      "        [ 101, 2040, 2515,  ...,    0,    0,    0],\n",
      "        [ 101, 2061, 2017,  ..., 2009, 1012,  102],\n",
      "        ...,\n",
      "        [ 101, 1045, 3685,  ..., 2027, 2097,  102],\n",
      "        [ 101, 2064, 2017,  ...,    0,    0,    0],\n",
      "        [ 101, 2017, 2113,  ..., 1045, 2342,  102]], device='cuda:0') torch.Size([80, 20])\n",
      "tensor([[1, 1, 1,  ..., 1, 1, 1],\n",
      "        [1, 1, 1,  ..., 0, 0, 0],\n",
      "        [1, 1, 1,  ..., 1, 1, 1],\n",
      "        ...,\n",
      "        [1, 1, 1,  ..., 1, 1, 1],\n",
      "        [1, 1, 1,  ..., 0, 0, 0],\n",
      "        [1, 1, 1,  ..., 1, 1, 1]], device='cuda:0') torch.Size([80, 20])\n",
      "tensor([[[-0.4099,  0.3876, -0.2835,  ..., -1.3094, -2.5112,  0.6827],\n",
      "         [-0.4982,  0.9905,  1.3793,  ...,  0.0310,  1.4094, -0.8233],\n",
      "         [ 0.1872, -0.0559, -1.0342,  ...,  0.8720, -0.9012, -0.2197],\n",
      "         ...,\n",
      "         [-0.0315, -0.2239, -1.6710,  ..., -1.7988, -0.9550, -0.1954],\n",
      "         [-0.4982,  0.9905,  1.3793,  ...,  0.0310,  1.4094, -0.8233],\n",
      "         [ 0.6294,  0.6827,  0.3855,  ...,  0.0264,  0.8222,  0.3793]],\n",
      "\n",
      "        [[-0.4099,  0.3876, -0.2835,  ..., -1.3094, -2.5112,  0.6827],\n",
      "         [ 0.8552, -0.6913,  1.1257,  ..., -0.0987, -0.2596,  0.2454],\n",
      "         [-0.2980,  0.8062, -0.3407,  ..., -0.5168,  0.6926,  0.7991],\n",
      "         ...,\n",
      "         [-1.4819, -1.7120, -0.0191,  ..., -0.5894, -2.8506, -0.0776],\n",
      "         [-1.4819, -1.7120, -0.0191,  ..., -0.5894, -2.8506, -0.0776],\n",
      "         [-1.4819, -1.7120, -0.0191,  ..., -0.5894, -2.8506, -0.0776]],\n",
      "\n",
      "        [[-0.4099,  0.3876, -0.2835,  ..., -1.3094, -2.5112,  0.6827],\n",
      "         [ 0.1872, -0.0559, -1.0342,  ...,  0.8720, -0.9012, -0.2197],\n",
      "         [-0.4350,  0.8521, -1.2693,  ...,  0.4396, -1.6431, -1.1849],\n",
      "         ...,\n",
      "         [-0.0606, -1.2334,  0.2088,  ..., -0.1109, -0.7881,  0.9047],\n",
      "         [-1.0634, -0.8135, -0.9360,  ..., -1.3815, -1.1506,  0.2841],\n",
      "         [ 0.6294,  0.6827,  0.3855,  ...,  0.0264,  0.8222,  0.3793]],\n",
      "\n",
      "        ...,\n",
      "\n",
      "        [[-0.4099,  0.3876, -0.2835,  ..., -1.3094, -2.5112,  0.6827],\n",
      "         [-0.0315, -0.2239, -1.6710,  ..., -1.7988, -0.9550, -0.1954],\n",
      "         [-1.6947,  0.4421,  0.9180,  ..., -1.2546,  0.1700,  1.6109],\n",
      "         ...,\n",
      "         [-1.7167, -1.1403, -0.6396,  ..., -1.8117,  2.1660, -1.2406],\n",
      "         [-0.9648,  0.1238, -0.0888,  ..., -0.6167,  1.5957,  1.0576],\n",
      "         [ 0.6294,  0.6827,  0.3855,  ...,  0.0264,  0.8222,  0.3793]],\n",
      "\n",
      "        [[-0.4099,  0.3876, -0.2835,  ..., -1.3094, -2.5112,  0.6827],\n",
      "         [ 1.4306, -0.3981,  1.6624,  ..., -2.0500,  0.6542,  0.9942],\n",
      "         [-0.4350,  0.8521, -1.2693,  ...,  0.4396, -1.6431, -1.1849],\n",
      "         ...,\n",
      "         [-1.4819, -1.7120, -0.0191,  ..., -0.5894, -2.8506, -0.0776],\n",
      "         [-1.4819, -1.7120, -0.0191,  ..., -0.5894, -2.8506, -0.0776],\n",
      "         [-1.4819, -1.7120, -0.0191,  ..., -0.5894, -2.8506, -0.0776]],\n",
      "\n",
      "        [[-0.4099,  0.3876, -0.2835,  ..., -1.3094, -2.5112,  0.6827],\n",
      "         [-0.4350,  0.8521, -1.2693,  ...,  0.4396, -1.6431, -1.1849],\n",
      "         [-0.5242,  0.2961, -0.3621,  ..., -1.1288, -1.3093, -0.6473],\n",
      "         ...,\n",
      "         [-0.0315, -0.2239, -1.6710,  ..., -1.7988, -0.9550, -0.1954],\n",
      "         [-0.2215,  0.6137,  0.1876,  ...,  0.5915, -0.9872, -0.4466],\n",
      "         [ 0.6294,  0.6827,  0.3855,  ...,  0.0264,  0.8222,  0.3793]]],\n",
      "       device='cuda:0', grad_fn=<EmbeddingBackward>)\n"
     ]
    },
    {
     "ename": "TypeError",
     "evalue": "cannot unpack non-iterable NoneType object",
     "output_type": "error",
     "traceback": [
      "\u001b[0;31m---------------------------------------------------------------------------\u001b[0m",
      "\u001b[0;31mTypeError\u001b[0m                                 Traceback (most recent call last)",
      "\u001b[0;32m<ipython-input-11-d1cac2318d66>\u001b[0m in \u001b[0;36m<module>\u001b[0;34m\u001b[0m\n\u001b[1;32m      8\u001b[0m \u001b[0;34m\u001b[0m\u001b[0m\n\u001b[1;32m      9\u001b[0m \u001b[0mmodel\u001b[0m\u001b[0;34m.\u001b[0m\u001b[0mskill\u001b[0m\u001b[0;34m.\u001b[0m\u001b[0mmodel\u001b[0m\u001b[0;34m.\u001b[0m\u001b[0mencoder\u001b[0m \u001b[0;34m=\u001b[0m \u001b[0mLSTMEncoder\u001b[0m\u001b[0;34m(\u001b[0m\u001b[0;34m**\u001b[0m\u001b[0mmodel\u001b[0m\u001b[0;34m.\u001b[0m\u001b[0mskill\u001b[0m\u001b[0;34m.\u001b[0m\u001b[0mmodel\u001b[0m\u001b[0;34m.\u001b[0m\u001b[0mconfig\u001b[0m\u001b[0;34m[\u001b[0m\u001b[0;34m\"encoder\"\u001b[0m\u001b[0;34m]\u001b[0m\u001b[0;34m)\u001b[0m\u001b[0;34m.\u001b[0m\u001b[0mto\u001b[0m\u001b[0;34m(\u001b[0m\u001b[0;34m\"cuda:0\"\u001b[0m\u001b[0;34m)\u001b[0m\u001b[0;34m\u001b[0m\u001b[0;34m\u001b[0m\u001b[0m\n\u001b[0;32m---> 10\u001b[0;31m \u001b[0mencoder_out\u001b[0m \u001b[0;34m=\u001b[0m \u001b[0mmodel\u001b[0m\u001b[0;34m.\u001b[0m\u001b[0mskill\u001b[0m\u001b[0;34m.\u001b[0m\u001b[0mmodel\u001b[0m\u001b[0;34m.\u001b[0m\u001b[0mdialog_embedding\u001b[0m\u001b[0;34m(\u001b[0m\u001b[0mutterance\u001b[0m\u001b[0;34m,\u001b[0m \u001b[0mutterance_mask\u001b[0m\u001b[0;34m,\u001b[0m \u001b[0msentiment\u001b[0m\u001b[0;34m)\u001b[0m\u001b[0;34m\u001b[0m\u001b[0;34m\u001b[0m\u001b[0m\n\u001b[0m\u001b[1;32m     11\u001b[0m \u001b[0mprev_output\u001b[0m \u001b[0;34m=\u001b[0m \u001b[0mresponse\u001b[0m\u001b[0;34m.\u001b[0m\u001b[0mdata\u001b[0m\u001b[0;34m[\u001b[0m\u001b[0;34m:\u001b[0m\u001b[0;34m,\u001b[0m \u001b[0;34m:\u001b[0m\u001b[0;34m-\u001b[0m\u001b[0;36m1\u001b[0m\u001b[0;34m]\u001b[0m\u001b[0;34m\u001b[0m\u001b[0;34m\u001b[0m\u001b[0m\n\u001b[1;32m     12\u001b[0m \u001b[0mtarget_output\u001b[0m \u001b[0;34m=\u001b[0m \u001b[0mresponse\u001b[0m\u001b[0;34m.\u001b[0m\u001b[0mdata\u001b[0m\u001b[0;34m[\u001b[0m\u001b[0;34m:\u001b[0m\u001b[0;34m,\u001b[0m \u001b[0;36m1\u001b[0m\u001b[0;34m:\u001b[0m\u001b[0;34m]\u001b[0m\u001b[0;34m\u001b[0m\u001b[0;34m\u001b[0m\u001b[0m\n",
      "\u001b[0;32m~/work/chatbot/chatbot-end2end/chatbot_end2end/model/generative_tracker.py\u001b[0m in \u001b[0;36mdialog_embedding\u001b[0;34m(self, utterance, utterance_mask, sentiment)\u001b[0m\n\u001b[1;32m     84\u001b[0m     \u001b[0;32mdef\u001b[0m \u001b[0mdialog_embedding\u001b[0m\u001b[0;34m(\u001b[0m\u001b[0mself\u001b[0m\u001b[0;34m,\u001b[0m \u001b[0mutterance\u001b[0m\u001b[0;34m,\u001b[0m \u001b[0mutterance_mask\u001b[0m\u001b[0;34m,\u001b[0m \u001b[0msentiment\u001b[0m\u001b[0;34m)\u001b[0m\u001b[0;34m:\u001b[0m\u001b[0;34m\u001b[0m\u001b[0;34m\u001b[0m\u001b[0m\n\u001b[1;32m     85\u001b[0m         \u001b[0;31m#utterance embedding\u001b[0m\u001b[0;34m\u001b[0m\u001b[0;34m\u001b[0m\u001b[0;34m\u001b[0m\u001b[0m\n\u001b[0;32m---> 86\u001b[0;31m         \u001b[0msequence_output\u001b[0m\u001b[0;34m,\u001b[0m \u001b[0mpooled_output\u001b[0m \u001b[0;34m=\u001b[0m \u001b[0mself\u001b[0m\u001b[0;34m.\u001b[0m\u001b[0mencoder\u001b[0m\u001b[0;34m(\u001b[0m\u001b[0mutterance\u001b[0m\u001b[0;34m,\u001b[0m \u001b[0mattention_mask\u001b[0m\u001b[0;34m=\u001b[0m\u001b[0mutterance_mask\u001b[0m\u001b[0;34m,\u001b[0m \u001b[0moutput_all_encoded_layers\u001b[0m\u001b[0;34m=\u001b[0m\u001b[0;32mFalse\u001b[0m\u001b[0;34m)\u001b[0m\u001b[0;34m\u001b[0m\u001b[0;34m\u001b[0m\u001b[0m\n\u001b[0m\u001b[1;32m     87\u001b[0m \u001b[0;34m\u001b[0m\u001b[0m\n\u001b[1;32m     88\u001b[0m         \u001b[0;31m#sentiment\u001b[0m\u001b[0;34m\u001b[0m\u001b[0;34m\u001b[0m\u001b[0;34m\u001b[0m\u001b[0m\n",
      "\u001b[0;31mTypeError\u001b[0m: cannot unpack non-iterable NoneType object"
     ]
    }
   ],
   "source": [
    "import nlptools.zoo.encoders.transformer\n",
    "import nlptools.zoo.encoders.lstm\n",
    "import importlib\n",
    "importlib.reload(nlptools.zoo.encoders.transformer)\n",
    "importlib.reload(nlptools.zoo.encoders.lstm)\n",
    "from nlptools.zoo.encoders.transformer import TransformerEncoder\n",
    "from nlptools.zoo.encoders.lstm import LSTMEncoder\n",
    "\n",
    "model.skill.model.encoder = LSTMEncoder(**model.skill.model.config[\"encoder\"]).to(\"cuda:0\")\n",
    "encoder_out = model.skill.model.dialog_embedding(utterance, utterance_mask, sentiment)\n",
    "prev_output = response.data[:, :-1]\n",
    "target_output = response.data[:, 1:]\n",
    "print(encoder_out.shape)\n",
    "print(prev_output.shape)\n",
    "print(target_output.shape)"
   ]
  },
  {
   "cell_type": "code",
   "execution_count": null,
   "metadata": {},
   "outputs": [],
   "source": [
    "for name, parameter in model.skill.model.named_parameters():\n",
    "    print(name, parameter.requires_grad)"
   ]
  },
  {
   "cell_type": "code",
   "execution_count": null,
   "metadata": {},
   "outputs": [],
   "source": [
    "for parameter in model.skill.model.decoder.fc3.parameters():\n",
    "    print(parameter.requires_grad)"
   ]
  },
  {
   "cell_type": "code",
   "execution_count": null,
   "metadata": {},
   "outputs": [],
   "source": [
    "target_output = target_output.unsqueeze(-1).contiguous().view(-1)\n",
    "target_output.shape"
   ]
  },
  {
   "cell_type": "code",
   "execution_count": null,
   "metadata": {},
   "outputs": [],
   "source": [
    "import nlptools.zoo.encoders.transformer\n",
    "import nlptools.zoo.encoders.lstm\n",
    "import importlib\n",
    "importlib.reload(nlptools.zoo.encoders.transformer)\n",
    "importlib.reload(nlptools.zoo.encoders.lstm)\n",
    "from nlptools.zoo.encoders.transformer import TransformerDecoder, TransformerEncoder\n",
    "from nlptools.zoo.encoders.lstm import LSTMDecoder, LSTMEncoder\n",
    "\n",
    "embedding = model.skill.model.encoder.embedding\n",
    "decoder_hidden_layers = 1\n",
    "decoder_attention_heads = 3\n",
    "decoder_hidden_size = 3072\n",
    "dropout = 0\n",
    "decoder = TransformerDecoder(embedding, decoder_hidden_layers, decoder_attention_heads, decoder_hidden_size, dropout)\n",
    "decoder = decoder.to(\"cuda:0\")\n",
    "output = decoder(prev_output, encoder_out, utterance_mask)\n",
    "output.shape"
   ]
  },
  {
   "cell_type": "code",
   "execution_count": null,
   "metadata": {},
   "outputs": [],
   "source": [
    "decoder"
   ]
  },
  {
   "cell_type": "code",
   "execution_count": null,
   "metadata": {},
   "outputs": [],
   "source": []
  }
 ],
 "metadata": {
  "kernelspec": {
   "display_name": "Python 3",
   "language": "python",
   "name": "python3"
  },
  "language_info": {
   "codemirror_mode": {
    "name": "ipython",
    "version": 3
   },
   "file_extension": ".py",
   "mimetype": "text/x-python",
   "name": "python",
   "nbconvert_exporter": "python",
   "pygments_lexer": "ipython3",
   "version": "3.7.3"
  }
 },
 "nbformat": 4,
 "nbformat_minor": 2
}
