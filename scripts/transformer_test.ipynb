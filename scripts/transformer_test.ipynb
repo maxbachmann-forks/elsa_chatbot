{
 "cells": [
  {
   "cell_type": "code",
   "execution_count": null,
   "metadata": {},
   "outputs": [],
   "source": [
    "#init\n",
    "import torch, numpy, sys\n",
    "sys.path.append(\"..\")\n",
    "from chatbot_end2end.model.supervised import Supervised\n",
    "from nlptools.utils import Config\n",
    "\n",
    "cfg = Config(\"../config/cornell_transformer.yml\")\n",
    "model = Supervised.build(cfg)"
   ]
  },
  {
   "cell_type": "code",
   "execution_count": 2,
   "metadata": {},
   "outputs": [
    {
     "name": "stdout",
     "output_type": "stream",
     "text": [
      "tensor([[ 101, 1045, 2113,  ...,    0,    0,    0],\n",
      "        [ 101, 2296, 2051,  ..., 2572, 2770,  102],\n",
      "        [ 101, 2009, 2001,  ...,    0,    0,    0],\n",
      "        ...,\n",
      "        [ 101, 2002, 2056,  ...,    0,    0,    0],\n",
      "        [ 101, 2115, 4113,  ..., 1012,  102,    0],\n",
      "        [ 101, 2074, 2115,  ...,    0,    0,    0]], device='cuda:0') torch.Size([63, 20])\n",
      "tensor([[1, 1, 1,  ..., 0, 0, 0],\n",
      "        [1, 1, 1,  ..., 1, 1, 1],\n",
      "        [1, 1, 1,  ..., 0, 0, 0],\n",
      "        ...,\n",
      "        [1, 1, 1,  ..., 0, 0, 0],\n",
      "        [1, 1, 1,  ..., 1, 1, 0],\n",
      "        [1, 1, 1,  ..., 0, 0, 0]], device='cuda:0') torch.Size([63, 20])\n",
      "tensor([[ 101, 2129, 1040,  ...,    0,    0,    0],\n",
      "        [ 101, 1045, 2245,  ...,    0,    0,    0],\n",
      "        [ 101, 2339, 2079,  ..., 2514, 2488,  102],\n",
      "        ...,\n",
      "        [ 101, 2002, 2056,  ...,    0,    0,    0],\n",
      "        [ 101, 2002, 2003,  ...,    0,    0,    0],\n",
      "        [ 101, 2029, 2003,  ...,    0,    0,    0]], device='cuda:0') torch.Size([63, 20])\n",
      "tensor([[1, 1, 1,  ..., 0, 0, 0],\n",
      "        [1, 1, 1,  ..., 0, 0, 0],\n",
      "        [1, 1, 1,  ..., 1, 1, 1],\n",
      "        ...,\n",
      "        [1, 1, 1,  ..., 0, 0, 0],\n",
      "        [1, 1, 1,  ..., 0, 0, 0],\n",
      "        [1, 1, 1,  ..., 0, 0, 0]], device='cuda:0') torch.Size([63, 20])\n",
      "tensor([[ 0.3612,  0.3612],\n",
      "        [-0.4215,  0.4215],\n",
      "        [ 0.0000,  0.7845],\n",
      "        [ 0.0000,  0.6447],\n",
      "        [ 0.0000,  0.0000],\n",
      "        [-0.2732, -0.2960],\n",
      "        [ 0.7820, -0.0516],\n",
      "        [ 0.7975, -0.4588],\n",
      "        [-0.3939,  0.0000],\n",
      "        [ 0.0000,  0.3612]], device='cuda:0') torch.Size([63, 2])\n"
     ]
    }
   ],
   "source": [
    "dialog = iter(model.generator).next()\n",
    "dialog.to(\"cuda:0\")\n",
    "response = dialog[\"response_cornell\"].data\n",
    "response_mask = dialog[\"response_mask_cornell\"].data\n",
    "utterance = dialog[\"utterance\"].data\n",
    "utterance_mask = dialog[\"utterance_mask\"].data\n",
    "sentiment = dialog[\"sentiment\"].data\n",
    "print(utterance, utterance.shape)\n",
    "print(utterance_mask, utterance_mask.shape)\n",
    "print(response, response.shape)\n",
    "print(response_mask, response_mask.shape)\n",
    "print(sentiment[:10, :], sentiment.shape)"
   ]
  },
  {
   "cell_type": "code",
   "execution_count": 3,
   "metadata": {},
   "outputs": [
    {
     "name": "stdout",
     "output_type": "stream",
     "text": [
      "torch.Size([63, 20, 768])\n",
      "torch.Size([63, 19])\n",
      "torch.Size([63, 19])\n"
     ]
    }
   ],
   "source": [
    "encoder_out, encoder_hidden = model.skill.model.dialog_embedding(utterance, utterance_mask, sentiment)\n",
    "prev_output = response.data[:, :-1]\n",
    "target_output = response.data[:, 1:]\n",
    "print(encoder_out.shape)\n",
    "print(prev_output.shape)\n",
    "print(target_output.shape)"
   ]
  },
  {
   "cell_type": "code",
   "execution_count": 4,
   "metadata": {},
   "outputs": [
    {
     "data": {
      "text/plain": [
       "torch.Size([1197])"
      ]
     },
     "execution_count": 4,
     "metadata": {},
     "output_type": "execute_result"
    }
   ],
   "source": [
    "target_output = target_output.unsqueeze(-1).contiguous().view(-1)\n",
    "target_output.shape"
   ]
  },
  {
   "cell_type": "code",
   "execution_count": 6,
   "metadata": {},
   "outputs": [
    {
     "data": {
      "text/plain": [
       "GRUDecoder(\n",
       "  (word_embedding): Embedding(30522, 768)\n",
       "  (gru): GRU(768, 1024, batch_first=True)\n",
       "  (attn): Linear(in_features=1792, out_features=20, bias=True)\n",
       "  (attn_combine): Linear(in_features=1536, out_features=768, bias=True)\n",
       "  (dropout): Dropout(p=0)\n",
       "  (hidden_proj): Linear(in_features=768, out_features=1024, bias=True)\n",
       "  (intermediate_linear): Linear(in_features=1024, out_features=768, bias=True)\n",
       "  (output_linear): Linear(in_features=768, out_features=30522, bias=False)\n",
       ")"
      ]
     },
     "execution_count": 6,
     "metadata": {},
     "output_type": "execute_result"
    }
   ],
   "source": [
    "#import nlptools.zoo.encoders.transformer\n",
    "import nlptools.zoo.encoders.gru\n",
    "import nlptools.zoo.encoders.attention\n",
    "import importlib\n",
    "#importlib.reload(nlptools.zoo.encoders.transformer)\n",
    "importlib.reload(nlptools.zoo.encoders.gru)\n",
    "importlib.reload(nlptools.zoo.encoders.attention)\n",
    "#from nlptools.zoo.encoders.transformer import TransformerDecoder, TransformerEncoder\n",
    "from nlptools.zoo.encoders.gru import GRUDecoder\n",
    "\n",
    "embedding = model.skill.model.encoder.embedding\n",
    "decoder_hidden_layers = 1\n",
    "decoder_attention_heads = 3\n",
    "decoder_hidden_size = 2048\n",
    "dropout = 0\n",
    "# decoder = TransformerDecoder(embedding, decoder_hidden_layers, decoder_attention_heads, decoder_hidden_size, dropout=dropout)\n",
    "decoder = GRUDecoder(embedding, decoder_hidden_layers, decoder_hidden_size, dropout=dropout)\n",
    "decoder = decoder.to(\"cuda:0\")\n",
    "decoder"
   ]
  },
  {
   "cell_type": "code",
   "execution_count": 5,
   "metadata": {},
   "outputs": [
    {
     "data": {
      "text/plain": [
       "19.192840576171875"
      ]
     },
     "execution_count": 5,
     "metadata": {},
     "output_type": "execute_result"
    }
   ],
   "source": [
    "output = model.skill.model.decoder(prev_output, encoder_out, utterance_mask, encoder_hidden)\n",
    "output_probs = model.skill.model.logsoftmax(output)\n",
    "output_probs_expand = output_probs.contiguous().view(-1, output_probs.size(2))\n",
    "loss = model.skill.model.loss_function(output_probs_expand, target_output)\n",
    "loss.item()"
   ]
  },
  {
   "cell_type": "code",
   "execution_count": null,
   "metadata": {},
   "outputs": [],
   "source": []
  }
 ],
 "metadata": {
  "kernelspec": {
   "display_name": "Python 3",
   "language": "python",
   "name": "python3"
  },
  "language_info": {
   "codemirror_mode": {
    "name": "ipython",
    "version": 3
   },
   "file_extension": ".py",
   "mimetype": "text/x-python",
   "name": "python",
   "nbconvert_exporter": "python",
   "pygments_lexer": "ipython3",
   "version": "3.7.3"
  }
 },
 "nbformat": 4,
 "nbformat_minor": 2
}
